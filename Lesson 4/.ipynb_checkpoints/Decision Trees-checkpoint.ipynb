{
 "cells": [
  {
   "cell_type": "markdown",
   "metadata": {},
   "source": [
    "# Decision Tree\n",
    "what this does is, it segments areas out to find a 'tree'\n",
    "The INTUITION here, is to look at how you could 'split' the data part by part, forming trees. \n",
    "This system makes sense, its about using 'linear' lines to split the data and its very neat\n",
    "\n",
    "URL: http://scikit-learn.org/stable/modules/tree.html\n",
    "\n",
    "min_samples_split - how many times you SPLIT the tree over and over. \n",
    "\n",
    "PURITY - is a measure how much impurity something has. SO if a tree has some contaminations of OTHER classifiers"
   ]
  },
  {
   "cell_type": "markdown",
   "metadata": {},
   "source": [
    "## Entropy\n",
    "\n",
    "If everything is COMPLETELY pure it has an entropy of 0\n",
    "If there is an EVENT SPLIT of all the classes - this entropy is 1\n",
    "\n",
    "Say an example is ssff (4 points) - 2 points of slow, 2 points of fast give a total of 4 points\n",
    "\n",
    "PI = fraction of slow examples \n",
    "\n",
    "So in this case, Pi = -SUM(Pi+log(Pi))"
   ]
  },
  {
   "cell_type": "code",
   "execution_count": 3,
   "metadata": {
    "collapsed": false
   },
   "outputs": [
    {
     "data": {
      "text/plain": [
       "1.0"
      ]
     },
     "execution_count": 3,
     "metadata": {},
     "output_type": "execute_result"
    }
   ],
   "source": [
    "import math\n",
    "# P Slow SUM ALL CLASSES\n",
    "-0.5*math.log(0.5,2) - 0.5*math.log(0.5,2)"
   ]
  },
  {
   "cell_type": "code",
   "execution_count": null,
   "metadata": {
    "collapsed": true
   },
   "outputs": [],
   "source": []
  }
 ],
 "metadata": {
  "kernelspec": {
   "display_name": "Python 3",
   "language": "python",
   "name": "python3"
  },
  "language_info": {
   "codemirror_mode": {
    "name": "ipython",
    "version": 3
   },
   "file_extension": ".py",
   "mimetype": "text/x-python",
   "name": "python",
   "nbconvert_exporter": "python",
   "pygments_lexer": "ipython3",
   "version": "3.6.0"
  }
 },
 "nbformat": 4,
 "nbformat_minor": 2
}
