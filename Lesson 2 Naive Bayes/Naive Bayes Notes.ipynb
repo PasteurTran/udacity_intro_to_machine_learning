{
 "cells": [
  {
   "cell_type": "markdown",
   "metadata": {},
   "source": [
    "# Supervised Classifcation Examples\n",
    "- looking at photos and recognise photos\n",
    "- give examples and recommendations\n",
    "\n",
    "### Scatter plot example\n",
    "- basically you allocate things and determine which is positioned where.\n",
    "- there DECSION SURFACE is what seperates ONE class from anotehr class\n",
    "\n",
    "# Naive Bayes\n",
    "- SKLEARN \n",
    "Below is starting a basic classifier"
   ]
  },
  {
   "cell_type": "markdown",
   "metadata": {},
   "source": [
    "For starting a GaussianNB:\n",
    "http://scikit-learn.org/stable/modules/generated/sklearn.naive_bayes.GaussianNB.html\n",
    "\n",
    "For starting an accuracy test:\n",
    "http://scikit-learn.org/stable/modules/generated/sklearn.metrics.accuracy_score.html"
   ]
  },
  {
   "cell_type": "markdown",
   "metadata": {},
   "source": [
    "# Bayes Rule\n",
    "\n",
    "Example:\n",
    "P(C) = 0.01 (1%)\n",
    "Test:\n",
    "90% it is positive you have C (sensitivity)  P(Pos | C ) = 0.9\n",
    "\n",
    "90% it is negative if you DONT have C (specifcitivy)  P(Neg | nC ) = 0.9\n",
    "\n",
    "Prior probability . Test Evidence -> POSTERIOR probability\n",
    "So in this example\n",
    "\n",
    "You are given P(c) = 0.01\n",
    "\n",
    "posterior: P(C | Pos) = P(c) . P(pos | C)\n",
    "      \n",
    "          P(nC | Pos) = P(nC) . P(pos | nC)\n",
    "           \n"
   ]
  },
  {
   "cell_type": "code",
   "execution_count": 9,
   "metadata": {
    "collapsed": false
   },
   "outputs": [
    {
     "name": "stdout",
     "output_type": "stream",
     "text": [
      "0.009000000000000001\n",
      "0.099\n"
     ]
    }
   ],
   "source": [
    "#P(C | Pos) = P(c) . P(pos | C)\n",
    "print (0.01*0.9)\n",
    "#P(nC | Pos) = P(nC) . P(pos | nC)\n",
    "print (0.99*0.1)"
   ]
  },
  {
   "cell_type": "code",
   "execution_count": 10,
   "metadata": {
    "collapsed": false
   },
   "outputs": [
    {
     "name": "stdout",
     "output_type": "stream",
     "text": [
      "0.108\n"
     ]
    }
   ],
   "source": [
    "# Normalizing\n",
    "print(0.009 + 0.099)"
   ]
  },
  {
   "cell_type": "code",
   "execution_count": 11,
   "metadata": {
    "collapsed": false
   },
   "outputs": [
    {
     "name": "stdout",
     "output_type": "stream",
     "text": [
      "0.08333333333333333\n",
      "0.9166666666666667\n"
     ]
    }
   ],
   "source": [
    "#posterior of normalized\n",
    "print(0.009 / 0.108)\n",
    "\n",
    "#posterior of normalized\n",
    "print(0.099 / 0.108)"
   ]
  },
  {
   "cell_type": "markdown",
   "metadata": {},
   "source": [
    "# Sample of Baye Rule for Classifciation\n",
    "\n",
    "Chris: Love(0.1) Deal (0.8) Life (0.1)\n",
    "Sara Love (0.3) Deal (0.2) Life (0.3)\n",
    "\n"
   ]
  },
  {
   "cell_type": "code",
   "execution_count": 12,
   "metadata": {
    "collapsed": false
   },
   "outputs": [
    {
     "name": "stdout",
     "output_type": "stream",
     "text": [
      "0.45\n",
      "0.25\n"
     ]
    }
   ],
   "source": [
    "# P(Chris/Lifedeal) = P(C) + P(LD | C)\n",
    "print(0.5*0.9)\n",
    "# P(Sara | lifedeal) \n",
    "print (0.5*0.5)"
   ]
  },
  {
   "cell_type": "code",
   "execution_count": 17,
   "metadata": {
    "collapsed": false
   },
   "outputs": [
    {
     "name": "stdout",
     "output_type": "stream",
     "text": [
      "0.5714285714285715\n",
      "0.4285714285714286\n"
     ]
    }
   ],
   "source": [
    "#normalized\n",
    "print(0.4/0.7)\n",
    "\n",
    "print(0.3/0.7)"
   ]
  },
  {
   "cell_type": "markdown",
   "metadata": {},
   "source": [
    "EXAMPLE WORD \n",
    "Identity from a text source if it is Label A/ Label B for example. \n",
    "The reason why it is Naive - it ignores word order (so if you ignore word order, it's just looking at frequency to classify things)\n"
   ]
  }
 ],
 "metadata": {
  "kernelspec": {
   "display_name": "Python 3",
   "language": "python",
   "name": "python3"
  },
  "language_info": {
   "codemirror_mode": {
    "name": "ipython",
    "version": 3
   },
   "file_extension": ".py",
   "mimetype": "text/x-python",
   "name": "python",
   "nbconvert_exporter": "python",
   "pygments_lexer": "ipython3",
   "version": "3.6.0"
  }
 },
 "nbformat": 4,
 "nbformat_minor": 2
}
