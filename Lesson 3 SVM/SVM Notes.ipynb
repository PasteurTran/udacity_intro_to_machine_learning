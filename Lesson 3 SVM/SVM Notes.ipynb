{
 "cells": [
  {
   "cell_type": "markdown",
   "metadata": {},
   "source": [
    "# SVM\n",
    "Maximizing the DISTANCE from the nearest point when SEPERATING data points\n",
    "## This is known as MARGIN\n",
    "\n",
    "STARTING THE SVM\n",
    "Python: http://scikit-learn.org/stable/modules/svm.html\n",
    "\n",
    "# Kernal Trick\n",
    "x, y ~ x1,x2,x3\n",
    "These functions\n",
    "Basically make a division line to a more linear approach"
   ]
  },
  {
   "cell_type": "code",
   "execution_count": null,
   "metadata": {
    "collapsed": true
   },
   "outputs": [],
   "source": []
  }
 ],
 "metadata": {
  "kernelspec": {
   "display_name": "Python 3",
   "language": "python",
   "name": "python3"
  },
  "language_info": {
   "codemirror_mode": {
    "name": "ipython",
    "version": 3
   },
   "file_extension": ".py",
   "mimetype": "text/x-python",
   "name": "python",
   "nbconvert_exporter": "python",
   "pygments_lexer": "ipython3",
   "version": "3.6.0"
  }
 },
 "nbformat": 4,
 "nbformat_minor": 2
}
